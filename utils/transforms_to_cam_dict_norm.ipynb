{
 "cells": [
  {
   "cell_type": "code",
   "execution_count": 1,
   "id": "681c785b",
   "metadata": {},
   "outputs": [
    {
     "name": "stdout",
     "output_type": "stream",
     "text": [
      "Jupyter environment detected. Enabling Open3D WebVisualizer.\n",
      "[Open3D INFO] WebRTC GUI backend enabled.\n",
      "[Open3D INFO] WebRTCWindowSystem: HTTP handshake server disabled.\n"
     ]
    }
   ],
   "source": [
    "import glob, json, os\n",
    "import numpy as np\n",
    "import open3d as o3d"
   ]
  },
  {
   "cell_type": "code",
   "execution_count": 2,
   "id": "3c2a3954",
   "metadata": {},
   "outputs": [],
   "source": [
    "def readJson(path):\n",
    "    f = open(path)\n",
    "    data = json.load(f)\n",
    "    f.close()\n",
    "    return data\n",
    "\n",
    "def invTransform(extrinsics):\n",
    "    assert extrinsics.shape == ((4,4))\n",
    "    \n",
    "    rotation = extrinsics[:3,:3]\n",
    "    translation = extrinsics[:3,3].T\n",
    "    \n",
    "    invExtrinsics = np.identity(4)\n",
    "    invExtrinsics[:3,:3] = rotation.T\n",
    "    invExtrinsics[:3,3] = - rotation.T @ translation\n",
    "    \n",
    "    assert np.isclose(np.linalg.det(invExtrinsics[:3,:3]), 1.0)\n",
    "    return invExtrinsics\n",
    "\n",
    "def get_tf_cams(cam_dict, target_radius=1.):\n",
    "    cam_centers = []\n",
    "    for frame in cam_dict:\n",
    "        C2W = np.array(frame['transform_matrix'])\n",
    "        assert C2W.shape == ((4,4))\n",
    "        cam_centers.append(C2W[:3, 3:4])\n",
    "\n",
    "    def get_center_and_diag(cam_centers):\n",
    "        cam_centers = np.hstack(cam_centers)\n",
    "        avg_cam_center = np.mean(cam_centers, axis=1, keepdims=True)\n",
    "        center = avg_cam_center\n",
    "        dist = np.linalg.norm(cam_centers - center, axis=0, keepdims=True)\n",
    "        diagonal = np.max(dist)\n",
    "        return center.flatten(), diagonal\n",
    "\n",
    "    center, diagonal = get_center_and_diag(cam_centers)\n",
    "    radius = diagonal * 1.1\n",
    "\n",
    "    translate = -center\n",
    "    scale = target_radius / radius\n",
    "\n",
    "    return translate, scale\n",
    "\n",
    "def transform_pose(C2W, translate, scale):\n",
    "        cam_center = C2W[:3, 3]\n",
    "        C2W[:3, 3] = (cam_center + translate) * scale\n",
    "        return C2W"
   ]
  },
  {
   "cell_type": "code",
   "execution_count": 3,
   "id": "79225260",
   "metadata": {},
   "outputs": [],
   "source": [
    "# IRON wants normalized version\n",
    "transforms = '/home/leyinghu/Documents/data/smplx_blender_addon_300_20220623/scene_female_kubric/transforms_test.json'\n",
    "cam_dict = os.path.join(os.path.dirname(transforms), 'cam_dict_norm.json')"
   ]
  },
  {
   "cell_type": "code",
   "execution_count": 4,
   "id": "7522cf1e",
   "metadata": {},
   "outputs": [],
   "source": [
    "raw = readJson(transforms)\n",
    "\n",
    "K = [\n",
    "      raw['fl_x'],\n",
    "      0.0,\n",
    "      raw['cx'],\n",
    "      0.0,\n",
    "      0.0,\n",
    "      raw['fl_y'],\n",
    "      raw['cy'],\n",
    "      0.0,\n",
    "      0.0,\n",
    "      0.0,\n",
    "      1.0,\n",
    "      0.0,\n",
    "      0.0,\n",
    "      0.0,\n",
    "      0.0,\n",
    "      1.0\n",
    "    ]\n",
    "\n",
    "img_size = [\n",
    "      raw['w'],\n",
    "      raw['h']\n",
    "    ]\n",
    "\n",
    "translate, scale = get_tf_cams(raw['frames'], target_radius=1.)"
   ]
  },
  {
   "cell_type": "code",
   "execution_count": 5,
   "id": "e2201a6d",
   "metadata": {},
   "outputs": [],
   "source": [
    "data = {}\n",
    "\n",
    "for frame in raw['frames']:\n",
    "    C2W = np.array(frame['transform_matrix'])\n",
    "    assert C2W.shape == ((4,4))\n",
    "    W2C = invTransform(C2W)\n",
    "    W2C = transform_pose(W2C, translate, scale)\n",
    "    assert np.isclose(np.linalg.det(W2C), 1.)\n",
    "    \n",
    "    data_frame = {}\n",
    "    data_frame['K'] = K\n",
    "    data_frame['W2C'] = W2C.flatten().tolist()\n",
    "    data_frame['img_size'] = img_size\n",
    "    \n",
    "    data[frame['file_path']+'.png'] = data_frame"
   ]
  },
  {
   "cell_type": "code",
   "execution_count": 6,
   "id": "4ef9b87c",
   "metadata": {},
   "outputs": [],
   "source": [
    "with open(cam_dict, 'w') as f:\n",
    "    json.dump(data, f, indent=2, sort_keys=True)"
   ]
  }
 ],
 "metadata": {
  "kernelspec": {
   "display_name": "Python 3 (ipykernel)",
   "language": "python",
   "name": "python3"
  },
  "language_info": {
   "codemirror_mode": {
    "name": "ipython",
    "version": 3
   },
   "file_extension": ".py",
   "mimetype": "text/x-python",
   "name": "python",
   "nbconvert_exporter": "python",
   "pygments_lexer": "ipython3",
   "version": "3.8.10"
  }
 },
 "nbformat": 4,
 "nbformat_minor": 5
}
