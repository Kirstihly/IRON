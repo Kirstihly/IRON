{
 "cells": [
  {
   "cell_type": "code",
   "execution_count": 1,
   "id": "681c785b",
   "metadata": {},
   "outputs": [],
   "source": [
    "import glob, json, os\n",
    "import numpy as np"
   ]
  },
  {
   "cell_type": "code",
   "execution_count": 2,
   "id": "3c2a3954",
   "metadata": {},
   "outputs": [],
   "source": [
    "def readJson(path):\n",
    "    f = open(path)\n",
    "    data = json.load(f)\n",
    "    f.close()\n",
    "    return data\n",
    "\n",
    "def invTransform(extrinsics):\n",
    "    assert extrinsics.shape == ((4,4))\n",
    "    \n",
    "    rotation = extrinsics[:3,:3]\n",
    "    translation = extrinsics[:3,3].T\n",
    "    \n",
    "    invExtrinsics = np.identity(4)\n",
    "    invExtrinsics[:3,:3] = rotation.T\n",
    "    invExtrinsics[:3,3] = - rotation.T @ translation\n",
    "    \n",
    "    assert np.isclose(np.linalg.det(invExtrinsics[:3,:3]), 1.0)\n",
    "    return invExtrinsics"
   ]
  },
  {
   "cell_type": "code",
   "execution_count": 3,
   "id": "79225260",
   "metadata": {},
   "outputs": [],
   "source": [
    "# IRON wants normalized version\n",
    "kai_cameras = '/home/leyinghu/Documents/data/Real_data07182022/downscaled_diffuse/colmap_nerfplusplus/posed_images/kai_cameras_normalized.json'\n",
    "cam_dict = os.path.join(os.path.dirname(kai_cameras), 'cam_dict_norm.json')"
   ]
  },
  {
   "cell_type": "code",
   "execution_count": 4,
   "id": "7522cf1e",
   "metadata": {},
   "outputs": [],
   "source": [
    "data = readJson(kai_cameras)\n",
    "for frame in data.keys():\n",
    "    W2C = np.array(data[frame]['W2C']).reshape((4,4))\n",
    "    invExtrinsics = invTransform(W2C)\n",
    "    data[frame]['W2C'] = list(invExtrinsics.flatten())"
   ]
  },
  {
   "cell_type": "code",
   "execution_count": 5,
   "id": "4ef9b87c",
   "metadata": {},
   "outputs": [],
   "source": [
    "with open(cam_dict, 'w') as f:\n",
    "    json.dump(data, f, indent=2, sort_keys=True)"
   ]
  }
 ],
 "metadata": {
  "kernelspec": {
   "display_name": "Python 3 (ipykernel)",
   "language": "python",
   "name": "python3"
  },
  "language_info": {
   "codemirror_mode": {
    "name": "ipython",
    "version": 3
   },
   "file_extension": ".py",
   "mimetype": "text/x-python",
   "name": "python",
   "nbconvert_exporter": "python",
   "pygments_lexer": "ipython3",
   "version": "3.8.10"
  }
 },
 "nbformat": 4,
 "nbformat_minor": 5
}
